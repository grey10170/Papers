{
 "metadata": {
  "language_info": {
   "codemirror_mode": {
    "name": "ipython",
    "version": 3
   },
   "file_extension": ".py",
   "mimetype": "text/x-python",
   "name": "python",
   "nbconvert_exporter": "python",
   "pygments_lexer": "ipython3",
   "version": "3.8.5-final"
  },
  "orig_nbformat": 2,
  "kernelspec": {
   "name": "python3",
   "display_name": "Python 3"
  }
 },
 "nbformat": 4,
 "nbformat_minor": 2,
 "cells": [
  {
   "cell_type": "code",
   "execution_count": 2,
   "metadata": {},
   "outputs": [],
   "source": [
    "from dataloader import getDataLoader\n",
    "from torchvision.utils import save_image\n",
    "\n",
    "_, valid_loader = getDataLoader(batch_size=2,num_workers= 4)\n",
    "testA, testB = next(iter(valid_loader))\n",
    "save_image(testA,\"sampleA.jpg\",nrow = 2, normalize= True)\n",
    "save_image(testB,\"sampleB.jpg\",nrow=2, normalize= True)\n"
   ]
  },
  {
   "cell_type": "code",
   "execution_count": 1,
   "metadata": {},
   "outputs": [
    {
     "output_type": "stream",
     "name": "stdout",
     "text": [
      "torch.Size([1, 3, 256, 256])\ntorch.Size([1, 1, 30, 30])\n"
     ]
    }
   ],
   "source": [
    "import torch\n",
    "from cyclegan import Image2Image, ImageDiscriminator\n",
    "\n",
    "a2a = Image2Image()\n",
    "da = ImageDiscriminator()\n",
    "\n",
    "print(a2a(torch.rand((1,3,256,256))).shape)\n",
    "print(da(torch.rand((1,3,256,256))).shape)"
   ]
  },
  {
   "cell_type": "code",
   "execution_count": 2,
   "metadata": {},
   "outputs": [
    {
     "output_type": "execute_result",
     "data": {
      "text/plain": [
       "1"
      ]
     },
     "metadata": {},
     "execution_count": 2
    }
   ],
   "source": [
    "import random\n",
    "random.randint(0,1)"
   ]
  },
  {
   "cell_type": "code",
   "execution_count": null,
   "metadata": {},
   "outputs": [],
   "source": []
  }
 ]
}